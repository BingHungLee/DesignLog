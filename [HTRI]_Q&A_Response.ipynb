{
  "nbformat": 4,
  "nbformat_minor": 0,
  "metadata": {
    "colab": {
      "name": "[HTRI] Q&A Response.ipynb",
      "provenance": [],
      "include_colab_link": true
    },
    "kernelspec": {
      "name": "python3",
      "display_name": "Python 3"
    }
  },
  "cells": [
    {
      "cell_type": "markdown",
      "metadata": {
        "id": "view-in-github",
        "colab_type": "text"
      },
      "source": [
        "<a href=\"https://colab.research.google.com/github/BingHungLee/DesignLog/blob/master/%5BHTRI%5D_Q%26A_Response.ipynb\" target=\"_parent\"><img src=\"https://colab.research.google.com/assets/colab-badge.svg\" alt=\"Open In Colab\"/></a>"
      ]
    },
    {
      "cell_type": "markdown",
      "metadata": {
        "id": "o0g5YT8wM7Ks",
        "colab_type": "text"
      },
      "source": [
        "[HTRI] Psychrometric Calculations in HTRI \n",
        "* We calculate the moist air properties based on the psychrometric chart from ASHRAE and execute the detail design in HTRI. We look up the databank from the HTRI and try to mix the water and air to simualte the moist air properties.However, the value between  the standard psychrometric chart  and  HTRI databank are so differnet.We would like to ask how to set the properties to simulate the moist air that meet our design requirements.\n",
        "\n",
        "* With VMG for modelling air/water mixtures we suggest not using air but select the individual components of air (nitrogen, oxygen, argon). These are:\n",
        "\n",
        "1. Nitrogen (78 vol% / 76 wt%) \n",
        "2. Oxygen (21 vol% / 23 wt%) \n",
        "3. Argon (1 vol% / 1 wt%) \n",
        "\n",
        "* Also, use APRNGL for the vapour and liquid phase model instead of APR. We can not set the relative humidity in XchangerSuite, so the dew point needs to be matched by setting the appropriate quantities of \"air\"/water.  Note that the enthalpy determined will have a different reference point to that in the ASHRAE chart, so it is unlikely that these absolute values will match.  The absolute value is not important in Xchangersuite, where we are interested in the difference between conditions, when evaluating the duty.\n",
        "\n",
        "\n",
        "\n",
        "\n",
        "\n"
      ]
    },
    {
      "cell_type": "code",
      "metadata": {
        "id": "S8V-iAXjNS34",
        "colab_type": "code",
        "colab": {}
      },
      "source": [
        ""
      ],
      "execution_count": 0,
      "outputs": []
    }
  ]
}