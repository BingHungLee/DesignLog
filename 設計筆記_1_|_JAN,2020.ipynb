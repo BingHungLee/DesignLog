{
  "nbformat": 4,
  "nbformat_minor": 0,
  "metadata": {
    "colab": {
      "name": "設計筆記#1 | JAN,2020.ipynb",
      "provenance": [],
      "authorship_tag": "ABX9TyPCjn1bYXq9wDYNNmTc9OSo",
      "include_colab_link": true
    },
    "kernelspec": {
      "name": "python3",
      "display_name": "Python 3"
    }
  },
  "cells": [
    {
      "cell_type": "markdown",
      "metadata": {
        "id": "view-in-github",
        "colab_type": "text"
      },
      "source": [
        "<a href=\"https://colab.research.google.com/github/BingHungLee/DesignLog/blob/master/%E8%A8%AD%E8%A8%88%E7%AD%86%E8%A8%98_1_%7C_JAN%2C2020.ipynb\" target=\"_parent\"><img src=\"https://colab.research.google.com/assets/colab-badge.svg\" alt=\"Open In Colab\"/></a>"
      ]
    },
    {
      "cell_type": "markdown",
      "metadata": {
        "id": "ImSwGF3T5YKA",
        "colab_type": "text"
      },
      "source": [
        "# 材料焊接性\n",
        "1. 殼體材料為SA203E (低溫碳鋼)，問與之相聯的補強板材質。\n",
        "2. 一般來說可以由材料P.NO 判斷，P.NO相同則銲接性相同。\n",
        "3. SA516-70 PNO為1；SA240-304 PNO為8， SA203E PNO為9。 需與專家確認焊接性。"
      ]
    },
    {
      "cell_type": "code",
      "metadata": {
        "id": "lHUaa1vV5zQp",
        "colab_type": "code",
        "colab": {}
      },
      "source": [
        ""
      ],
      "execution_count": 0,
      "outputs": []
    }
  ]
}