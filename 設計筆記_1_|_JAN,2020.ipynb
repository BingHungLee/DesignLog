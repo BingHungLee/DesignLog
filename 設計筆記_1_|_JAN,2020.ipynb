{
  "nbformat": 4,
  "nbformat_minor": 0,
  "metadata": {
    "colab": {
      "name": "設計筆記#1 | JAN,2020.ipynb",
      "provenance": [],
      "authorship_tag": "ABX9TyNS20QxFMpnHTV4ByoJjlSo",
      "include_colab_link": true
    },
    "kernelspec": {
      "name": "python3",
      "display_name": "Python 3"
    }
  },
  "cells": [
    {
      "cell_type": "markdown",
      "metadata": {
        "id": "view-in-github",
        "colab_type": "text"
      },
      "source": [
        "<a href=\"https://colab.research.google.com/github/BingHungLee/DesignLog/blob/master/%E8%A8%AD%E8%A8%88%E7%AD%86%E8%A8%98_1_%7C_JAN%2C2020.ipynb\" target=\"_parent\"><img src=\"https://colab.research.google.com/assets/colab-badge.svg\" alt=\"Open In Colab\"/></a>"
      ]
    },
    {
      "cell_type": "markdown",
      "metadata": {
        "id": "ImSwGF3T5YKA",
        "colab_type": "text"
      },
      "source": [
        "# 材料焊接性\n",
        "1. 殼體材料為SA203E (低溫碳鋼)，問與之相聯的補強板材質。\n",
        "2. 一般來說可以由材料P.NO 判斷，P.NO相同則銲接性相同。\n",
        "3. SA516-70 PNO為1；SA240-304 PNO為8， SA203E PNO為9。 需與專家確認焊接性。\n",
        "4. 不鏽鋼補強板與碳鋼胴體貼合，第一看PNO考量焊接性，第二看有無退火，不鏽鋼於高溫敏化(一般退火溫度400-500C;碳鋼500C以上)。\n",
        "5. 不鏽鋼補強板若為主結構，需要考慮最低操作溫度，本例-46C，不需要衝擊，但若改用碳鋼SA516-70沒有N只能到-29C。所幸若補強板非主結構件，仍可豁免，不需強制用N。"
      ]
    },
    {
      "cell_type": "markdown",
      "metadata": {
        "id": "WJWDNLlV6Cv6",
        "colab_type": "text"
      },
      "source": [
        "# 試驗壓力判定\n",
        "1. 水試,設計壓力*1.3\n",
        "2. 氣試,設計壓力*1.1\n",
        "3. 端看應力值變化決定溫度修正幅度(是否要溫度修正) "
      ]
    },
    {
      "cell_type": "markdown",
      "metadata": {
        "id": "0l3xc0IB6Ng4",
        "colab_type": "text"
      },
      "source": [
        "# 保溫保冷材質選用\n",
        "1. 現多不用潑水性岩棉，易吸水後保溫下腐蝕。\n",
        "2. 多用真珠岩，或氣膠體。"
      ]
    },
    {
      "cell_type": "markdown",
      "metadata": {
        "id": "1t16RPYR6UWM",
        "colab_type": "text"
      },
      "source": [
        "# 管嘴SCH選定\n",
        "1. 對CS而言，承壓件法規要求最小為SCH40，但考量腐蝕裕度，多取SCH80\n",
        "2. 對SS而言，CA不考慮，故可以選擇SCH40S。\n",
        "\n",
        "* For Flange, There is RF and FF.\n",
        "* RF = rise face ; FF = flat face.\n",
        "* There is another symbol R/L\n",
        "* R means cutting spiral. L means smooth surface.\n",
        "\n",
        "* 一旦表面經拋光處理則不會有R，只有L\n",
        "* L用在光滑表面，避免Fouling或粉性流體堆積。\n"
      ]
    },
    {
      "cell_type": "code",
      "metadata": {
        "id": "8nO3xTOw6ReX",
        "colab_type": "code",
        "colab": {}
      },
      "source": [
        ""
      ],
      "execution_count": 0,
      "outputs": []
    }
  ]
}