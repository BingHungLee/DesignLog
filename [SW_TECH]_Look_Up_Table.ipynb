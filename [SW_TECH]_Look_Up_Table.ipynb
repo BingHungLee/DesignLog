{
  "nbformat": 4,
  "nbformat_minor": 0,
  "metadata": {
    "colab": {
      "name": "[SW TECH] Look Up Table.ipynb",
      "provenance": [],
      "include_colab_link": true
    },
    "kernelspec": {
      "name": "python3",
      "display_name": "Python 3"
    }
  },
  "cells": [
    {
      "cell_type": "markdown",
      "metadata": {
        "id": "view-in-github",
        "colab_type": "text"
      },
      "source": [
        "<a href=\"https://colab.research.google.com/github/BingHungLee/DesignLog/blob/master/%5BSW_TECH%5D_Look_Up_Table.ipynb\" target=\"_parent\"><img src=\"https://colab.research.google.com/assets/colab-badge.svg\" alt=\"Open In Colab\"/></a>"
      ]
    },
    {
      "cell_type": "code",
      "metadata": {
        "id": "Ib6oVXXqdPuO",
        "colab_type": "code",
        "colab": {
          "base_uri": "https://localhost:8080/",
          "height": 85
        },
        "outputId": "841624b5-692f-4729-a459-20283fe96018"
      },
      "source": [
        "BoltSelected =\"M12x1.75\"\n",
        "\n",
        "MDEDE2_20 = [[12, 80.2, 21, 16, 32],\n",
        "                    [16, 150.3, 29, 21, 44],\n",
        "                    [20, 234.9, 32, 24, 52],\n",
        "                    [22, 292.4, 33, 25, 54],\n",
        "                    [24, 338.2, 37, 29, 59],\n",
        "                    [27, 443.1, 39, 29, 64],\n",
        "                    [30, 562.1, 46, 33, 73],\n",
        "                    [36, 842.5, 54, 40, 84],\n",
        "                    [39, 1003.9, 58, 44, 92],\n",
        "                    [42, 1179.4, 62, 49, 100],\n",
        "                    [48, 1572.9, 68, 56, 113],\n",
        "                    [56, 2185.6, 76, 64, 127],\n",
        "                    [64, 2898.8, 84, 67, 140],\n",
        "                    [72, 3712.4, 89, 70, 156],\n",
        "                    [80, 4626.7, 94, 75, 167],\n",
        "                    [90, 5910.8, 108, 85, 189],\n",
        "                    [100, 7352.1, 120, 94, 208]]\n",
        "\n",
        "if BoltSelected == \"M12x1.75\" :\n",
        "  El = MDEDE2_20[0][3]\n",
        "  RH = MDEDE2_20[0][2]\n",
        "  M = MDEDE2_20[0][0]\n",
        "  Bmin = MDEDE2_20[0][4]\n",
        "elif Bolt_cb.SelectedItem == \"M16x2.00\":\n",
        "  El = MDEDE2_20[1][3]\n",
        "  RH = MDEDE2_20[1][2]\n",
        "  M = MDEDE2_20[1][0]\n",
        "  Bmin = MDEDE2_20[1][4]\n",
        "elif Bolt_cb.SelectedItem == \"M20x2.50\":\n",
        "  El = MDEDE2_20[2][3]\n",
        "  RH = MDEDE2_20[2][2]\n",
        "  M = MDEDE2_20[2][0]\n",
        "  Bmin = MDEDE2_20[2][4]\n",
        "elif Bolt_cb.SelectedItem == \"M22x2.50\":\n",
        "  El = MDEDE2_20[3][3]\n",
        "  RH = MDEDE2_20[3][2]\n",
        "  M = MDEDE2_20[3][0]\n",
        "  Bmin = MDEDE2_20[3][4]\n",
        "elif Bolt_cb.SelectedItem == \"M24x3.00\":\n",
        "  El = MDEDE2_20[4][3]\n",
        "  RH = MDEDE2_20[4][2]\n",
        "  M = MDEDE2_20[4][0]\n",
        "  Bmin = MDEDE2_20[4][4]\n",
        "elif Bolt_cb.SelectedItem == \"M27x3.00\":\n",
        "  El = MDEDE2_20[5][3]\n",
        "  RH = MDEDE2_20[5][2]\n",
        "  M = MDEDE2_20[5][0]\n",
        "  Bmin = MDEDE2_20[5][4]\n",
        "elif Bolt_cb.SelectedItem ==  \"M30x3.00\":\n",
        "  El = MDEDE2_20[6][3]\n",
        "  RH = MDEDE2_20[6][2]\n",
        "  M = MDEDE2_20[6][0]\n",
        "  Bmin = MDEDE2_20[6][4]\n",
        "elif Bolt_cb.SelectedItem ==  \"M36x3.00\":\n",
        "  El = MDEDE2_20[7][3]\n",
        "  RH = MDEDE2_20[7][2]\n",
        "  M = MDEDE2_20[7][0]\n",
        "  Bmin = MDEDE2_20[7][4]\n",
        "elif Bolt_cb.SelectedItem ==  \"M39x3.00\":\n",
        "  El = MDEDE2_20[8][3]\n",
        "  RH = MDEDE2_20[8][2]\n",
        "  M = MDEDE2_20[8][0]\n",
        "  Bmin = MDEDE2_20[8][4]\n",
        "elif Bolt_cb.SelectedItem ==  \"M42x3.00\":\n",
        "  El = MDEDE2_20[9][3]\n",
        "  RH = MDEDE2_20[9][2]\n",
        "  M = MDEDE2_20[9][0]\n",
        "  Bmin = MDEDE2_20[9][4]\n",
        "elif Bolt_cb.SelectedItem ==  \"M48x3.00\":\n",
        "  El = MDEDE2_20[10][3]\n",
        "  RH = MDEDE2_20[10][2]\n",
        "  M = MDEDE2_20[10][0]\n",
        "  Bmin = MDEDE2_20[10][4]\n",
        "elif Bolt_cb.SelectedItem ==  \"M56x3.00\":\n",
        "  El = MDEDE2_20[11][3]\n",
        "  RH = MDEDE2_20[11][2]\n",
        "  M = MDEDE2_20[11][0]\n",
        "  Bmin = MDEDE2_20[11][4]\n",
        "elif Bolt_cb.SelectedItem ==  \"M64x3.00\":\n",
        "  El = MDEDE2_20[12][3]\n",
        "  RH = MDEDE2_20[12][2]\n",
        "  M = MDEDE2_20[12][0]\n",
        "  Bmin = MDEDE2_20[12][4]\n",
        "elif Bolt_cb.SelectedItem ==  \"M72x3.00\":\n",
        "  El = MDEDE2_20[13][3]\n",
        "  RH = MDEDE2_20[13][2]\n",
        "  M = MDEDE2_20[13][0]\n",
        "  Bmin = MDEDE2_20[13][4]\n",
        "elif Bolt_cb.SelectedItem ==  \"M80x3.00\":\n",
        "  El = MDEDE2_20[14][3]\n",
        "  RH = MDEDE2_20[14][2]\n",
        "  M = MDEDE2_20[14][0]\n",
        "  Bmin = MDEDE2_20[14][4]\n",
        "elif Bolt_cb.SelectedItem ==  \"M90x3.00\":\n",
        "  El = MDEDE2_20[15][3]\n",
        "  RH = MDEDE2_20[15][2]\n",
        "  M = MDEDE2_20[15][0]\n",
        "  Bmin = MDEDE2_20[15][4]\n",
        "elif Bolt_cb.SelectedItem ==  \"M100x3.00\":\n",
        "  El = MDEDE2_20[16][3]\n",
        "  RH = MDEDE2_20[16][2]\n",
        "  M = MDEDE2_20[16][0]\n",
        "  Bmin = MDEDE2_20[16][4]\n",
        "\n",
        "print(\"El\",El)\n",
        "print(\"RH\",RH)\n",
        "print(\"M\",M)\n",
        "print(\"Bmin\",Bmin)"
      ],
      "execution_count": 9,
      "outputs": [
        {
          "output_type": "stream",
          "text": [
            "El 16\n",
            "RH 21\n",
            "M 12\n",
            "Bmin 32\n"
          ],
          "name": "stdout"
        }
      ]
    },
    {
      "cell_type": "code",
      "metadata": {
        "id": "HcIMI9KbdVQb",
        "colab_type": "code",
        "colab": {
          "base_uri": "https://localhost:8080/",
          "height": 102
        },
        "outputId": "cc53c987-8c6d-4628-b0a5-410165510cbe"
      },
      "source": [
        "BoltSpec = [\"M12x1.75\",\"M16x2.00\",\"M20x2.50\",\"M22x2.50\",\"M24x3.00\",\"M27x3.00\",\"M30x3.00\",\"M36x3.00\",\"M39x3.00\",\"M42x3.00\",\"M48x3.00\",\"M48x3.00\",\"M64x3.00\",\"M72x3.00\",\"M80x3.00\",\"M90x3.00\",\"M100x3.00\"]\n",
        "BoltSelected =\"M24x3.00\"\n",
        "Key = int(BoltSpec.index(BoltSelected))\n",
        "print(Key)\n",
        "M = MDEDE2_20[Key][0]\n",
        "RH = MDEDE2_20[Key][2]\n",
        "El = MDEDE2_20[Key][3]\n",
        "Bmin = MDEDE2_20[Key][4]\n",
        "\n",
        "print(\"M\",M)\n",
        "print(\"RH\",RH)\n",
        "print(\"El\",El)\n",
        "print(\"Bmin\",Bmin)"
      ],
      "execution_count": 16,
      "outputs": [
        {
          "output_type": "stream",
          "text": [
            "4\n",
            "M 24\n",
            "RH 37\n",
            "El 29\n",
            "Bmin 59\n"
          ],
          "name": "stdout"
        }
      ]
    }
  ]
}